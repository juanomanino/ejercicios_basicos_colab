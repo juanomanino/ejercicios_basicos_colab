{
  "nbformat": 4,
  "nbformat_minor": 0,
  "metadata": {
    "colab": {
      "provenance": [],
      "authorship_tag": "ABX9TyMmASGiQdWbA0EUgLg51/yV",
      "include_colab_link": true
    },
    "kernelspec": {
      "name": "python3",
      "display_name": "Python 3"
    },
    "language_info": {
      "name": "python"
    }
  },
  "cells": [
    {
      "cell_type": "markdown",
      "metadata": {
        "id": "view-in-github",
        "colab_type": "text"
      },
      "source": [
        "<a href=\"https://colab.research.google.com/github/juanomanino/ejercicios_basicos_colab/blob/main/condicionales.ipynb\" target=\"_parent\"><img src=\"https://colab.research.google.com/assets/colab-badge.svg\" alt=\"Open In Colab\"/></a>"
      ]
    },
    {
      "cell_type": "markdown",
      "source": [
        "# INSTRUCCIONES CONDICIONALES\n",
        "\n",
        "- if\n",
        "- if else\n",
        "- if elif else\n",
        "\n",
        "- 1. Verificar si una persona es apta para un préstamo bancario\n",
        "- 2. Verificar si dados tres números enteros, la suma de los dos primeros es igual al tercero\n",
        "- 3. Mayor de edad"
      ],
      "metadata": {
        "id": "lpQTICZ4okWf"
      }
    },
    {
      "cell_type": "code",
      "execution_count": null,
      "metadata": {
        "id": "L8-UXUEwoeNK"
      },
      "outputs": [],
      "source": [
        "print(\"-------------------------------\")\n",
        "print(\"---------PRESTAMO -------------\")\n",
        "print(\"-------------------------------\")\n",
        "\n",
        "# Input\n",
        "ingr=int(input(\"Digite sus ingresos: \"))\n",
        "\n",
        "# Processing\n",
        "if ingr>945200:\n",
        "  deuda=int(input(\" ¿Tiene alguna otra deuda? DDigite 1 para si, Digite 2 para no: \"))\n",
        "  if deuda==2:\n",
        "    print(\"Usted es apto para el préstamo. Aprobado\")\n",
        "  else:\n",
        "    print(\"Préstamo denegado\")\n",
        "else:\n",
        "  print(\"Préstamo denegado\")"
      ]
    },
    {
      "cell_type": "code",
      "source": [
        "print(\"--------------------------------\")\n",
        "print(\"-----SUMA DOS ENTEROS ---------\")\n",
        "print(\"--------------------------------\")\n",
        "\n",
        "# input\n",
        "x=int(input(\"Ingrese el valor del primer entero: \"))\n",
        "y=int(input(\"Ingrese el valor del segundo entero: \"))\n",
        "c=int(input(\"Ingrese el valor del tercer entero: \"))\n",
        "\n",
        "\n",
        "#processing\n",
        "\n",
        "z=x+y\n",
        "if z==c:\n",
        "    print(\"La suma de los dos primeros enteros es igual al tercero\")\n",
        "else:\n",
        "    print(\"La suma de los dos primeros no es igual al tercer entero\")\n"
      ],
      "metadata": {
        "id": "z6Vm95sipffn"
      },
      "execution_count": null,
      "outputs": []
    },
    {
      "cell_type": "code",
      "source": [
        "print(\"--------------------------------\")\n",
        "print(\"---------MAYOR EDAD -------------\")\n",
        "print(\"--------------------------------\")\n",
        "\n",
        "# input\n",
        "edad=int(input(\"Digite su edad: \"))\n",
        "\n",
        "#processing\n",
        "\n",
        "if edad>=18:\n",
        "    print(\"La persona es MAYOR DE EDAD\")\n",
        "else:\n",
        "    print(\"La persona es MENOR DE EDAD\")"
      ],
      "metadata": {
        "id": "HU81fTQ6pfxi"
      },
      "execution_count": null,
      "outputs": []
    }
  ]
}