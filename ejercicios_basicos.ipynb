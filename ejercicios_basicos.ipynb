{
  "nbformat": 4,
  "nbformat_minor": 0,
  "metadata": {
    "colab": {
      "provenance": [],
      "authorship_tag": "ABX9TyPRaurP2Ik/YrWlB3pqVIt1",
      "include_colab_link": true
    },
    "kernelspec": {
      "name": "python3",
      "display_name": "Python 3"
    },
    "language_info": {
      "name": "python"
    }
  },
  "cells": [
    {
      "cell_type": "markdown",
      "metadata": {
        "id": "view-in-github",
        "colab_type": "text"
      },
      "source": [
        "<a href=\"https://colab.research.google.com/github/juanomanino/ejercicios_basicos_colab/blob/main/ejercicios_basicos.ipynb\" target=\"_parent\"><img src=\"https://colab.research.google.com/assets/colab-badge.svg\" alt=\"Open In Colab\"/></a>"
      ]
    },
    {
      "cell_type": "markdown",
      "source": [
        "# Ejercicios básicos Python\n",
        "\n",
        "- 1. Suma de dos números\n",
        "- 2. Potencia de un número"
      ],
      "metadata": {
        "id": "PG9uxyB6gdeN"
      }
    },
    {
      "cell_type": "code",
      "source": [
        "# Suma de dos números enteros\n",
        "print(\"------------------------\")\n",
        "print(\"----SUMA DOS ENTEROS----\")\n",
        "print(\"------------------------\")\n",
        "\n",
        "# INPUT\n",
        "x=int(input(\"Digite el valor de x: \"))\n",
        "y=int(input(\"Digite el valor de y: \"))\n",
        "\n",
        "\n",
        "# PROCESSING\n",
        "z=x+y\n",
        "print(\"La suma de \", x, \" + \", y, \" es \", z)"
      ],
      "metadata": {
        "id": "7X7TZ1VmfKDj"
      },
      "execution_count": null,
      "outputs": []
    },
    {
      "cell_type": "code",
      "source": [],
      "metadata": {
        "id": "b-2gdVBCjFyZ"
      },
      "execution_count": null,
      "outputs": []
    }
  ]
}